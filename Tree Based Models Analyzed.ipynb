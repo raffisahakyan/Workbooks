{
  "nbformat": 4,
  "nbformat_minor": 0,
  "metadata": {
    "kernelspec": {
      "display_name": "Python 3",
      "language": "python",
      "name": "python3"
    },
    "language_info": {
      "codemirror_mode": {
        "name": "ipython",
        "version": 3
      },
      "file_extension": ".py",
      "mimetype": "text/x-python",
      "name": "python",
      "nbconvert_exporter": "python",
      "pygments_lexer": "ipython3",
      "version": "3.6.9"
    },
    "colab": {
      "name": "Homework 3 - Part 1-Copy1.ipynb",
      "provenance": [],
      "toc_visible": true
    }
  },
  "cells": [
    {
      "cell_type": "markdown",
      "metadata": {
        "id": "LD9Qn-nojopz",
        "colab_type": "text"
      },
      "source": [
        "## Mathematics and Statistics for Analytics - Homework Assignment 3"
      ]
    },
    {
      "cell_type": "markdown",
      "metadata": {
        "id": "-EZS1iiJj7SP",
        "colab_type": "text"
      },
      "source": [
        "Authors: Raffi Sahakyan, Pansull Bhatt, Bei Yei\n",
        "<br>\n",
        "Date: 02 Dec, 2019"
      ]
    },
    {
      "cell_type": "markdown",
      "metadata": {
        "id": "GpnCgDqZzbeF",
        "colab_type": "text"
      },
      "source": [
        "## Homework 3 - Part 1\n",
        "## Decision Tree and Random forest\n",
        "\n",
        "In this homework, you will perform classification on the provided datasets using Decision Tree and Random Forest algorithms. \n",
        "\n",
        "The first dataset you will be working with contains 2 features. The second dataset contains 50 features. Both of them have a target label which can be 0 or 1.\n",
        "\n",
        "You will go step by step with the first dataset. <br>\n",
        "1 - Use a Decision Tree Classifier and observe the model performance.<br>\n",
        "2 - Use a Random Forest Classifier and observe the model performance.<br>\n",
        "3 - Use Grid Search to choose the optimal values for hyperparameters and observe the performance of the best model.\n",
        "\n",
        "\n",
        "For the second dataset, you are required to generate an optimized Random Forest model using what you have learned in the steps mentioned above.\n",
        "\n",
        "Dataset 1:\n",
        "train_2features.csv and test_2features.csv are the training set and testing set respecitvely.\n",
        "\n",
        "\n",
        "Dataset 2:\n",
        "train_50features.csv and test_50features.csv are the training set and testing set respecitvely.\n",
        "\n",
        "\n",
        "To obtain a deterministic behavior, keep the random_state in all algorithms fixed to the value given. \n"
      ]
    },
    {
      "cell_type": "code",
      "metadata": {
        "id": "fTUBaA1k0Cew",
        "colab_type": "code",
        "outputId": "0a42a254-62de-4bda-f4fe-01f44e1e2502",
        "colab": {
          "base_uri": "https://localhost:8080/",
          "height": 34
        }
      },
      "source": [
        "from google.colab import drive\n",
        "drive.mount('/content/gdrive')"
      ],
      "execution_count": 0,
      "outputs": [
        {
          "output_type": "stream",
          "text": [
            "Drive already mounted at /content/gdrive; to attempt to forcibly remount, call drive.mount(\"/content/gdrive\", force_remount=True).\n"
          ],
          "name": "stdout"
        }
      ]
    },
    {
      "cell_type": "code",
      "metadata": {
        "id": "T7Rsgzwk0WNA",
        "colab_type": "code",
        "outputId": "72d7b794-e522-4c79-9465-1c9da2c1af37",
        "colab": {
          "base_uri": "https://localhost:8080/",
          "height": 54
        }
      },
      "source": [
        "root_path = 'gdrive/My Drive/HW3/'\n",
        "import os\n",
        "os.chdir(root_path)\n",
        "print(os.listdir())"
      ],
      "execution_count": 0,
      "outputs": [
        {
          "output_type": "stream",
          "text": [
            "['test_50features.csv', 'utils.py', 'test_2features.csv', 'predictions.csv', 'train_50features.csv', 'train_2features.csv', 'Homework 3 - Part 1-Copy1.ipynb', '__pycache__']\n"
          ],
          "name": "stdout"
        }
      ]
    },
    {
      "cell_type": "code",
      "metadata": {
        "id": "5igG2DkSzbeI",
        "colab_type": "code",
        "colab": {}
      },
      "source": [
        "import matplotlib.pyplot as plt\n",
        "import numpy as np\n",
        "import pandas as pd\n",
        "from utils import visualize_2d_data"
      ],
      "execution_count": 0,
      "outputs": []
    },
    {
      "cell_type": "markdown",
      "metadata": {
        "id": "2cow6VJHzbeO",
        "colab_type": "text"
      },
      "source": [
        "# Dataset 1"
      ]
    },
    {
      "cell_type": "code",
      "metadata": {
        "id": "KV1nMaiczbeP",
        "colab_type": "code",
        "outputId": "2fb19689-7491-4426-941e-95e5bb609018",
        "colab": {
          "base_uri": "https://localhost:8080/",
          "height": 297
        }
      },
      "source": [
        "train_df = pd.read_csv(\"train_2features.csv\")\n",
        "f, ax = visualize_2d_data(train_df)"
      ],
      "execution_count": 0,
      "outputs": [
        {
          "output_type": "display_data",
          "data": {
            "image/png": "[encoded data removed]",
            "text/plain": [
              "<Figure size 432x288 with 1 Axes>"
            ]
          },
          "metadata": {
            "tags": []
          }
        }
      ]
    },
    {
      "cell_type": "code",
      "metadata": {
        "id": "67KXCUEFzbeW",
        "colab_type": "code",
        "outputId": "f2aea225-96df-4c47-936c-651d79670564",
        "colab": {
          "base_uri": "https://localhost:8080/",
          "height": 195
        }
      },
      "source": [
        "train_df.head()"
      ],
      "execution_count": 0,
      "outputs": [
        {
          "output_type": "execute_result",
          "data": {
            "text/html": [
              "<div>\n",
              "<style scoped>\n",
              "    .dataframe tbody tr th:only-of-type {\n",
              "        vertical-align: middle;\n",
              "    }\n",
              "\n",
              "    .dataframe tbody tr th {\n",
              "        vertical-align: top;\n",
              "    }\n",
              "\n",
              "    .dataframe thead th {\n",
              "        text-align: right;\n",
              "    }\n",
              "</style>\n",
              "<table border=\"1\" class=\"dataframe\">\n",
              "  <thead>\n",
              "    <tr style=\"text-align: right;\">\n",
              "      <th></th>\n",
              "      <th>x1</th>\n",
              "      <th>x2</th>\n",
              "      <th>y</th>\n",
              "    </tr>\n",
              "  </thead>\n",
              "  <tbody>\n",
              "    <tr>\n",
              "      <th>0</th>\n",
              "      <td>0.455178</td>\n",
              "      <td>0.727672</td>\n",
              "      <td>1</td>\n",
              "    </tr>\n",
              "    <tr>\n",
              "      <th>1</th>\n",
              "      <td>-0.303342</td>\n",
              "      <td>1.684185</td>\n",
              "      <td>0</td>\n",
              "    </tr>\n",
              "    <tr>\n",
              "      <th>2</th>\n",
              "      <td>-1.100127</td>\n",
              "      <td>-1.914980</td>\n",
              "      <td>0</td>\n",
              "    </tr>\n",
              "    <tr>\n",
              "      <th>3</th>\n",
              "      <td>1.129869</td>\n",
              "      <td>-1.319774</td>\n",
              "      <td>1</td>\n",
              "    </tr>\n",
              "    <tr>\n",
              "      <th>4</th>\n",
              "      <td>0.396403</td>\n",
              "      <td>0.836826</td>\n",
              "      <td>1</td>\n",
              "    </tr>\n",
              "  </tbody>\n",
              "</table>\n",
              "</div>"
            ],
            "text/plain": [
              "         x1        x2  y\n",
              "0  0.455178  0.727672  1\n",
              "1 -0.303342  1.684185  0\n",
              "2 -1.100127 -1.914980  0\n",
              "3  1.129869 -1.319774  1\n",
              "4  0.396403  0.836826  1"
            ]
          },
          "metadata": {
            "tags": []
          },
          "execution_count": 5
        }
      ]
    },
    {
      "cell_type": "code",
      "metadata": {
        "id": "BpgT6ZyOzbeb",
        "colab_type": "code",
        "outputId": "f9360844-1b0b-4f9b-b521-c925249d7b55",
        "colab": {
          "base_uri": "https://localhost:8080/",
          "height": 297
        }
      },
      "source": [
        "test_df = pd.read_csv(\"test_2features.csv\")\n",
        "f, ax = visualize_2d_data(test_df)"
      ],
      "execution_count": 0,
      "outputs": [
        {
          "output_type": "display_data",
          "data": {
            "image/png": "[encoded data removed]",
            "text/plain": [
              "<Figure size 432x288 with 1 Axes>"
            ]
          },
          "metadata": {
            "tags": []
          }
        }
      ]
    },
    {
      "cell_type": "code",
      "metadata": {
        "id": "-9NDGUbGzbeg",
        "colab_type": "code",
        "outputId": "1a484356-9b03-4e58-8fb4-ec5bd6094cc5",
        "colab": {
          "base_uri": "https://localhost:8080/",
          "height": 195
        }
      },
      "source": [
        "test_df.head()"
      ],
      "execution_count": 0,
      "outputs": [
        {
          "output_type": "execute_result",
          "data": {
            "text/html": [
              "<div>\n",
              "<style scoped>\n",
              "    .dataframe tbody tr th:only-of-type {\n",
              "        vertical-align: middle;\n",
              "    }\n",
              "\n",
              "    .dataframe tbody tr th {\n",
              "        vertical-align: top;\n",
              "    }\n",
              "\n",
              "    .dataframe thead th {\n",
              "        text-align: right;\n",
              "    }\n",
              "</style>\n",
              "<table border=\"1\" class=\"dataframe\">\n",
              "  <thead>\n",
              "    <tr style=\"text-align: right;\">\n",
              "      <th></th>\n",
              "      <th>x1</th>\n",
              "      <th>x2</th>\n",
              "      <th>y</th>\n",
              "    </tr>\n",
              "  </thead>\n",
              "  <tbody>\n",
              "    <tr>\n",
              "      <th>0</th>\n",
              "      <td>-1.260875</td>\n",
              "      <td>-1.496315</td>\n",
              "      <td>0</td>\n",
              "    </tr>\n",
              "    <tr>\n",
              "      <th>1</th>\n",
              "      <td>1.804029</td>\n",
              "      <td>1.253803</td>\n",
              "      <td>1</td>\n",
              "    </tr>\n",
              "    <tr>\n",
              "      <th>2</th>\n",
              "      <td>-1.627030</td>\n",
              "      <td>0.118947</td>\n",
              "      <td>0</td>\n",
              "    </tr>\n",
              "    <tr>\n",
              "      <th>3</th>\n",
              "      <td>-1.888437</td>\n",
              "      <td>0.040332</td>\n",
              "      <td>0</td>\n",
              "    </tr>\n",
              "    <tr>\n",
              "      <th>4</th>\n",
              "      <td>1.140222</td>\n",
              "      <td>1.199631</td>\n",
              "      <td>0</td>\n",
              "    </tr>\n",
              "  </tbody>\n",
              "</table>\n",
              "</div>"
            ],
            "text/plain": [
              "         x1        x2  y\n",
              "0 -1.260875 -1.496315  0\n",
              "1  1.804029  1.253803  1\n",
              "2 -1.627030  0.118947  0\n",
              "3 -1.888437  0.040332  0\n",
              "4  1.140222  1.199631  0"
            ]
          },
          "metadata": {
            "tags": []
          },
          "execution_count": 7
        }
      ]
    },
    {
      "cell_type": "markdown",
      "metadata": {
        "id": "bbJSnkAHzbel",
        "colab_type": "text"
      },
      "source": [
        "**Q. From the above visualizations, what can you tell about the need for a linear/non-linear model for classification?**"
      ]
    },
    {
      "cell_type": "markdown",
      "metadata": {
        "id": "IcbkrR7tzbem",
        "colab_type": "text"
      },
      "source": [
        "_Answer_ - If we solely base our decision on the above plots, linear classification models may be used, however they will not provide the desired accuracy, in terms of recall/precision. Therefore, non-linear decision boundaries are required, which would be derived from non-linear classifiaction models. Yet, before answering the question, we have to identify the business objective, target accuracy, position on interpretability vs. accuracy tradeoff, etc. While non/linear models. "
      ]
    },
    {
      "cell_type": "markdown",
      "metadata": {
        "id": "JT1Vor_Fzbeo",
        "colab_type": "text"
      },
      "source": [
        "### Decision Tree\n",
        "From sklearn.tree use DecisionTreeClassifier to build a classification model with default parameters."
      ]
    },
    {
      "cell_type": "code",
      "metadata": {
        "id": "_24gtRq5zbep",
        "colab_type": "code",
        "colab": {}
      },
      "source": [
        "from sklearn.tree import DecisionTreeClassifier\n",
        "from sklearn.metrics import accuracy_score,precision_score, recall_score"
      ],
      "execution_count": 0,
      "outputs": []
    },
    {
      "cell_type": "code",
      "metadata": {
        "id": "yYI85nHhzbeu",
        "colab_type": "code",
        "colab": {}
      },
      "source": [
        "X_train, y_train = train_df.drop('y', axis=1), np.ravel(train_df['y'])\n",
        "X_test, y_test = test_df.drop('y', axis=1), np.ravel(test_df['y'])"
      ],
      "execution_count": 0,
      "outputs": []
    },
    {
      "cell_type": "code",
      "metadata": {
        "id": "ogK4pa9qzbey",
        "colab_type": "code",
        "outputId": "c528aefe-ceee-43ef-a694-ea97cba1a604",
        "colab": {
          "base_uri": "https://localhost:8080/",
          "height": 118
        }
      },
      "source": [
        "### Fit the classifier on the training data\n",
        "clf = DecisionTreeClassifier(random_state=26)\n",
        "\n",
        "clf.fit(X_train, y_train)"
      ],
      "execution_count": 0,
      "outputs": [
        {
          "output_type": "execute_result",
          "data": {
            "text/plain": [
              "DecisionTreeClassifier(class_weight=None, criterion='gini', max_depth=None,\n",
              "                       max_features=None, max_leaf_nodes=None,\n",
              "                       min_impurity_decrease=0.0, min_impurity_split=None,\n",
              "                       min_samples_leaf=1, min_samples_split=2,\n",
              "                       min_weight_fraction_leaf=0.0, presort=False,\n",
              "                       random_state=26, splitter='best')"
            ]
          },
          "metadata": {
            "tags": []
          },
          "execution_count": 10
        }
      ]
    },
    {
      "cell_type": "code",
      "metadata": {
        "id": "BCOUkyshzbe3",
        "colab_type": "code",
        "colab": {}
      },
      "source": [
        "### Make predictions on the training data\n",
        "y_hat_train = clf.predict(X_train)\n"
      ],
      "execution_count": 0,
      "outputs": []
    },
    {
      "cell_type": "markdown",
      "metadata": {
        "id": "_AAn4VuVzbe8",
        "colab_type": "text"
      },
      "source": [
        "Q. Print accuracy, prediction and recall for the predictions made on the training data. "
      ]
    },
    {
      "cell_type": "code",
      "metadata": {
        "id": "KnKO6aopzbe-",
        "colab_type": "code",
        "outputId": "0cd17d54-21cf-46be-fa59-120ca70e44a0",
        "colab": {
          "base_uri": "https://localhost:8080/",
          "height": 67
        }
      },
      "source": [
        "from sklearn.metrics import precision_score, accuracy_score, recall_score\n",
        "\n",
        "def fetch_scores(y: pd.DataFrame, y_hat: pd.DataFrame):\n",
        "    \"\"\"\n",
        "    Function to calculate the precision, accuracy and recall scores\n",
        "    \"\"\"\n",
        "    print(\"Accuracy Score: \", accuracy_score(y, y_hat))\n",
        "    print(\"Precision Score: \", precision_score(y, y_hat))\n",
        "    print(\"Recall Score: \", recall_score(y, y_hat))    \n",
        "\n",
        "fetch_scores(y_train, y_hat_train)"
      ],
      "execution_count": 0,
      "outputs": [
        {
          "output_type": "stream",
          "text": [
            "Accuracy Score:  1.0\n",
            "Precision Score:  1.0\n",
            "Recall Score:  1.0\n"
          ],
          "name": "stdout"
        }
      ]
    },
    {
      "cell_type": "code",
      "metadata": {
        "id": "eDfrNiYrzbfD",
        "colab_type": "code",
        "colab": {}
      },
      "source": [
        "### Make predictions on the testing data\n",
        "y_hat_test = clf.predict(X_test)\n"
      ],
      "execution_count": 0,
      "outputs": []
    },
    {
      "cell_type": "markdown",
      "metadata": {
        "id": "IFFyhvTYzbfH",
        "colab_type": "text"
      },
      "source": [
        "Q. Print accuracy, prediction and recall for the predictions made on the testing data. "
      ]
    },
    {
      "cell_type": "code",
      "metadata": {
        "id": "bzQEtSRczbfI",
        "colab_type": "code",
        "outputId": "c0712362-ff08-463d-e989-7b7cc1d32b58",
        "colab": {
          "base_uri": "https://localhost:8080/",
          "height": 67
        }
      },
      "source": [
        "# Fetch the accuracy, prediction and recall scores\n",
        "fetch_scores(y_test, y_hat_test)"
      ],
      "execution_count": 0,
      "outputs": [
        {
          "output_type": "stream",
          "text": [
            "Accuracy Score:  0.69\n",
            "Precision Score:  0.6818181818181818\n",
            "Recall Score:  0.6382978723404256\n"
          ],
          "name": "stdout"
        }
      ]
    },
    {
      "cell_type": "code",
      "metadata": {
        "id": "9xazWdgdzbfN",
        "colab_type": "code",
        "outputId": "4630bb24-2dce-4cf7-c9bc-e4f69ce8b1ec",
        "colab": {
          "base_uri": "https://localhost:8080/",
          "height": 50
        }
      },
      "source": [
        "# Counting the number of outputs to identify their distribution\n",
        "print(sum(1 for i in y_train if i == 1) / len(y_train))\n",
        "print(sum(1 for i in y_test if i == 1) / len(y_test))"
      ],
      "execution_count": 0,
      "outputs": [
        {
          "output_type": "stream",
          "text": [
            "0.49\n",
            "0.47\n"
          ],
          "name": "stdout"
        }
      ]
    },
    {
      "cell_type": "markdown",
      "metadata": {
        "id": "JDNrBJ92zbfS",
        "colab_type": "text"
      },
      "source": [
        "Q. Plot ROC curve and obtain AUC for test predictions"
      ]
    },
    {
      "cell_type": "code",
      "metadata": {
        "scrolled": true,
        "id": "0Uhm6jaEzbfT",
        "colab_type": "code",
        "outputId": "6c943c33-6b64-4fb8-e868-f0ebaf11f8f6",
        "colab": {
          "base_uri": "https://localhost:8080/",
          "height": 295
        }
      },
      "source": [
        "from sklearn.metrics import roc_curve, auc\n",
        "# Plot the ROC curve by giving appropriate names for title and axes. \n",
        "\n",
        "%matplotlib inline\n",
        "\n",
        "def plot_roc_curve(y: pd.DataFrame, y_hat: pd.DataFrame, title=\"Receiver operating characteristic\"):\n",
        "    \"\"\"\n",
        "    Function to plot the roc curve\n",
        "    \"\"\"\n",
        "    fpr, tpr, thresholds = roc_curve(y, y_hat)\n",
        "    plt.figure()\n",
        "    plt.plot(fpr, tpr, color='darkorange', label=f\"ROC curve (area = {auc(fpr, tpr):>.2f})\")\n",
        "    plt.plot([0, 1], [0, 1], color='navy', linestyle='--')\n",
        "    plt.xlim([0.0, 1.0])\n",
        "    plt.ylim([0.0, 1.05])\n",
        "    plt.xlabel('False Positive Rate')\n",
        "    plt.ylabel('True Positive Rate')\n",
        "    plt.title(title)\n",
        "    plt.legend(loc=\"lower right\")\n",
        "    plt.show()\n",
        "\n",
        "y_hat_prob = clf.predict_proba(X_test)[:, 1]\n",
        "plot_roc_curve(y_test, y_hat_prob)"
      ],
      "execution_count": 0,
      "outputs": [
        {
          "output_type": "display_data",
          "data": {
            "image/png": "[encoded data removed]",
            "text/plain": [
              "<Figure size 432x288 with 1 Axes>"
            ]
          },
          "metadata": {
            "tags": []
          }
        }
      ]
    },
    {
      "cell_type": "code",
      "metadata": {
        "id": "2TKpPOGtzbfY",
        "colab_type": "code",
        "outputId": "96a28b36-50d2-4add-f73a-6829bfdf1cb0",
        "colab": {
          "base_uri": "https://localhost:8080/",
          "height": 295
        }
      },
      "source": [
        "import seaborn as sns\n",
        "from sklearn.metrics import confusion_matrix\n",
        "\n",
        "def plot_confusion_matrix(y_cv, y_pred):\n",
        "    \"\"\"\n",
        "    Plot confusion matrix\n",
        "    \"\"\"\n",
        "    cm = confusion_matrix(y_cv, y_pred) #confusion matrix\n",
        "\n",
        "    ax= plt.subplot()\n",
        "    sns.heatmap(cm, annot=True, ax = ax,fmt='g')  #heatmap, fmt='g' converts scientific to float\n",
        "    ax.set_xlabel('Predicted labels')\n",
        "    ax.set_ylabel('True labels')\n",
        "    ax.set_title('Confusion Matrix')\n",
        "\n",
        "    #last version of seaborn is messing the heatmap when working with matplotlib\n",
        "    #so we have to adjust these lines\n",
        "    bottom, top = ax.get_ylim()\n",
        "    ax.set_ylim(bottom + 0.5, top - 0.5)\n",
        "    plt.show()\n",
        "\n",
        "plot_confusion_matrix(y_test, y_hat_test)"
      ],
      "execution_count": 0,
      "outputs": [
        {
          "output_type": "display_data",
          "data": {
            "image/png": "[encoded data removed]",
            "text/plain": [
              "<Figure size 432x288 with 2 Axes>"
            ]
          },
          "metadata": {
            "tags": []
          }
        }
      ]
    },
    {
      "cell_type": "code",
      "metadata": {
        "id": "6y4CZrmIzbfd",
        "colab_type": "code",
        "colab": {}
      },
      "source": [
        "from sklearn.model_selection import cross_val_score"
      ],
      "execution_count": 0,
      "outputs": []
    },
    {
      "cell_type": "code",
      "metadata": {
        "id": "5GRj7-XIzbfh",
        "colab_type": "code",
        "outputId": "aca8d04b-8861-4773-adac-fea0206fab6e",
        "colab": {
          "base_uri": "https://localhost:8080/",
          "height": 195
        }
      },
      "source": [
        "X_test.tail()"
      ],
      "execution_count": 0,
      "outputs": [
        {
          "output_type": "execute_result",
          "data": {
            "text/html": [
              "<div>\n",
              "<style scoped>\n",
              "    .dataframe tbody tr th:only-of-type {\n",
              "        vertical-align: middle;\n",
              "    }\n",
              "\n",
              "    .dataframe tbody tr th {\n",
              "        vertical-align: top;\n",
              "    }\n",
              "\n",
              "    .dataframe thead th {\n",
              "        text-align: right;\n",
              "    }\n",
              "</style>\n",
              "<table border=\"1\" class=\"dataframe\">\n",
              "  <thead>\n",
              "    <tr style=\"text-align: right;\">\n",
              "      <th></th>\n",
              "      <th>x1</th>\n",
              "      <th>x2</th>\n",
              "    </tr>\n",
              "  </thead>\n",
              "  <tbody>\n",
              "    <tr>\n",
              "      <th>95</th>\n",
              "      <td>1.801460</td>\n",
              "      <td>-0.937715</td>\n",
              "    </tr>\n",
              "    <tr>\n",
              "      <th>96</th>\n",
              "      <td>-0.887340</td>\n",
              "      <td>0.693588</td>\n",
              "    </tr>\n",
              "    <tr>\n",
              "      <th>97</th>\n",
              "      <td>0.703942</td>\n",
              "      <td>-0.121592</td>\n",
              "    </tr>\n",
              "    <tr>\n",
              "      <th>98</th>\n",
              "      <td>-0.026801</td>\n",
              "      <td>-0.271846</td>\n",
              "    </tr>\n",
              "    <tr>\n",
              "      <th>99</th>\n",
              "      <td>-1.035082</td>\n",
              "      <td>1.264804</td>\n",
              "    </tr>\n",
              "  </tbody>\n",
              "</table>\n",
              "</div>"
            ],
            "text/plain": [
              "          x1        x2\n",
              "95  1.801460 -0.937715\n",
              "96 -0.887340  0.693588\n",
              "97  0.703942 -0.121592\n",
              "98 -0.026801 -0.271846\n",
              "99 -1.035082  1.264804"
            ]
          },
          "metadata": {
            "tags": []
          },
          "execution_count": 19
        }
      ]
    },
    {
      "cell_type": "code",
      "metadata": {
        "scrolled": true,
        "id": "vPP-_7bfzbfm",
        "colab_type": "code",
        "outputId": "3afe64cc-43a8-496d-a319-bc80cc3c3b20",
        "colab": {
          "base_uri": "https://localhost:8080/",
          "height": 50
        }
      },
      "source": [
        "scores = cross_val_score(clf, pd.concat([X_train, X_test]), np.concatenate([y_train, y_test]), cv=5)\n",
        "print(scores)\n",
        "print(scores.std())"
      ],
      "execution_count": 0,
      "outputs": [
        {
          "output_type": "stream",
          "text": [
            "[0.65853659 0.7        0.7        0.725      0.76923077]\n",
            "0.036277363242611826\n"
          ],
          "name": "stdout"
        }
      ]
    },
    {
      "cell_type": "code",
      "metadata": {
        "id": "vvQaTW5Zzbfu",
        "colab_type": "code",
        "outputId": "19103793-56df-40f5-96ca-473afdce52e0",
        "colab": {
          "base_uri": "https://localhost:8080/",
          "height": 295
        }
      },
      "source": [
        "plt.bar([f\"Score {i}\" for i in range(len(scores))], scores)\n",
        "plt.xlabel('CV Number')\n",
        "plt.ylabel('Scores')\n",
        "plt.ylim([0.6, 0.8])\n",
        "plt.title(\"CV Scores\")\n",
        "plt.show()"
      ],
      "execution_count": 0,
      "outputs": [
        {
          "output_type": "display_data",
          "data": {
            "image/png": "[encoded data removed]",
            "text/plain": [
              "<Figure size 432x288 with 1 Axes>"
            ]
          },
          "metadata": {
            "tags": []
          }
        }
      ]
    },
    {
      "cell_type": "markdown",
      "metadata": {
        "id": "Xr8kpO8szbf0",
        "colab_type": "text"
      },
      "source": [
        "**Q. Based on the scores for training set and test set, explain the performance of the above model in terms of bias and variance.**"
      ]
    },
    {
      "cell_type": "markdown",
      "metadata": {
        "id": "q3DPmQZtzbf2",
        "colab_type": "text"
      },
      "source": [
        "In terms of bias, the model is performing excellent on the training set(providing high accuracy), while its underperforming on the test set. This is further confirmed by the considerable variance in the cross validation scores, which is a red flag pointing to overfitting. Thus, we can deduce that the model is overfitted i.e. the model has high variance. This is to be expected as most decision trees are prone to overfitting."
      ]
    },
    {
      "cell_type": "markdown",
      "metadata": {
        "id": "snE5po9Lzbf3",
        "colab_type": "text"
      },
      "source": [
        "### Random Forest\n",
        "\n",
        "\n",
        "Decision Trees have low predictive power compared to other methods due to high variance. Random Forest increases prediction power at the expense of decreased interpretability. \n",
        "\n",
        "\n",
        "From sklearn.ensemble use RandomForestClassifier to build a classification model with default parameters."
      ]
    },
    {
      "cell_type": "code",
      "metadata": {
        "id": "o_lJjxfczbf4",
        "colab_type": "code",
        "colab": {}
      },
      "source": [
        "from sklearn.ensemble import RandomForestClassifier"
      ],
      "execution_count": 0,
      "outputs": []
    },
    {
      "cell_type": "code",
      "metadata": {
        "id": "117IKz_szbf8",
        "colab_type": "code",
        "outputId": "9ddca069-7e8f-4eca-e698-40a72c3d60dc",
        "colab": {
          "base_uri": "https://localhost:8080/"
        }
      },
      "source": [
        "### Fit the classifier on the training data\n",
        "clf = RandomForestClassifier(random_state=26)\n",
        "\n",
        "clf.fit(X_train, y_train)"
      ],
      "execution_count": 0,
      "outputs": [
        {
          "output_type": "stream",
          "text": [
            "/usr/local/lib/python3.6/dist-packages/sklearn/ensemble/forest.py:245: FutureWarning: The default value of n_estimators will change from 10 in version 0.20 to 100 in 0.22.\n",
            "  \"10 in version 0.20 to 100 in 0.22.\", FutureWarning)\n"
          ],
          "name": "stderr"
        },
        {
          "output_type": "execute_result",
          "data": {
            "text/plain": [
              "RandomForestClassifier(bootstrap=True, class_weight=None, criterion='gini',\n",
              "                       max_depth=None, max_features='auto', max_leaf_nodes=None,\n",
              "                       min_impurity_decrease=0.0, min_impurity_split=None,\n",
              "                       min_samples_leaf=1, min_samples_split=2,\n",
              "                       min_weight_fraction_leaf=0.0, n_estimators=10,\n",
              "                       n_jobs=None, oob_score=False, random_state=26, verbose=0,\n",
              "                       warm_start=False)"
            ]
          },
          "metadata": {
            "tags": []
          },
          "execution_count": 23
        }
      ]
    },
    {
      "cell_type": "code",
      "metadata": {
        "id": "eSNPROKlzbgB",
        "colab_type": "code",
        "colab": {}
      },
      "source": [
        "### Make predictions on the training data\n",
        "y_hat_train = clf.predict(X_train)"
      ],
      "execution_count": 0,
      "outputs": []
    },
    {
      "cell_type": "markdown",
      "metadata": {
        "id": "0n58kLoBzbgF",
        "colab_type": "text"
      },
      "source": [
        "Q. Print accuracy, prediction and recall for the predictions made on the training data. "
      ]
    },
    {
      "cell_type": "code",
      "metadata": {
        "id": "humJP8BnzbgH",
        "colab_type": "code",
        "outputId": "b9e51596-3ef9-47b6-8136-bdc8a0a2109b",
        "colab": {
          "base_uri": "https://localhost:8080/"
        }
      },
      "source": [
        "fetch_scores(y_train, y_hat_train)"
      ],
      "execution_count": 0,
      "outputs": [
        {
          "output_type": "stream",
          "text": [
            "Accuracy Score:  0.99\n",
            "Precision Score:  1.0\n",
            "Recall Score:  0.9795918367346939\n"
          ],
          "name": "stdout"
        }
      ]
    },
    {
      "cell_type": "code",
      "metadata": {
        "id": "Tz39tQREzbgK",
        "colab_type": "code",
        "colab": {}
      },
      "source": [
        "### Make predictions on the testing data\n",
        "y_hat_test = clf.predict(X_test)"
      ],
      "execution_count": 0,
      "outputs": []
    },
    {
      "cell_type": "markdown",
      "metadata": {
        "id": "F_QDzbRlzbgO",
        "colab_type": "text"
      },
      "source": [
        "Q. Print accuracy, prediction and recall for the predictions made on the testing data. "
      ]
    },
    {
      "cell_type": "code",
      "metadata": {
        "id": "xqxAniYgzbgQ",
        "colab_type": "code",
        "outputId": "dcfc2d3b-0d7b-4d0b-eed5-4b0419d29280",
        "colab": {
          "base_uri": "https://localhost:8080/"
        }
      },
      "source": [
        "fetch_scores(y_test, y_hat_test)"
      ],
      "execution_count": 0,
      "outputs": [
        {
          "output_type": "stream",
          "text": [
            "Accuracy Score:  0.72\n",
            "Precision Score:  0.7021276595744681\n",
            "Recall Score:  0.7021276595744681\n"
          ],
          "name": "stdout"
        }
      ]
    },
    {
      "cell_type": "markdown",
      "metadata": {
        "id": "ln3aJ1fCzbgU",
        "colab_type": "text"
      },
      "source": [
        "Q. Plot ROC curve and obtain AUC for the test predictions"
      ]
    },
    {
      "cell_type": "code",
      "metadata": {
        "id": "UEtZJoL6zbgV",
        "colab_type": "code",
        "outputId": "6071cc91-bc17-45ba-a9b4-cd09ac1f2e68",
        "colab": {
          "base_uri": "https://localhost:8080/"
        }
      },
      "source": [
        "# Plot the ROC curve by giving appropriate names for title and axes. \n",
        "y_hat_prob = clf.predict_proba(X_test)[:, 1]\n",
        "plot_roc_curve(y_test, y_hat_prob, \"Receiver operating characteristic for testing data\")"
      ],
      "execution_count": 0,
      "outputs": [
        {
          "output_type": "display_data",
          "data": {
            "image/png": "[encoded data removed]",
            "text/plain": [
              "<Figure size 432x288 with 1 Axes>"
            ]
          },
          "metadata": {
            "tags": []
          }
        }
      ]
    },
    {
      "cell_type": "code",
      "metadata": {
        "id": "mpiaubGAzbgf",
        "colab_type": "code",
        "outputId": "ed2ebaf0-dd51-4a6f-916b-3d61b224ddc4",
        "colab": {
          "base_uri": "https://localhost:8080/"
        }
      },
      "source": [
        "scores = cross_val_score(clf, pd.concat([X_train, X_test]), np.concatenate([y_train, y_test]), cv=5)\n",
        "print(scores)\n",
        "print(scores.std())"
      ],
      "execution_count": 0,
      "outputs": [
        {
          "output_type": "stream",
          "text": [
            "[0.65853659 0.775      0.725      0.725      0.74358974]\n",
            "0.03811052294733671\n"
          ],
          "name": "stdout"
        }
      ]
    },
    {
      "cell_type": "code",
      "metadata": {
        "id": "ybt1BdLgzbgk",
        "colab_type": "code",
        "outputId": "45134f52-d3fc-4876-90a8-ccf925a6b55d",
        "colab": {
          "base_uri": "https://localhost:8080/"
        }
      },
      "source": [
        "plt.bar([f\"Score {i}\" for i in range(len(scores))], scores)\n",
        "plt.xlabel('CV Number')\n",
        "plt.ylabel('Scores')\n",
        "plt.ylim([0.6, 0.8])\n",
        "plt.title(\"CV Scores\")\n",
        "plt.show()"
      ],
      "execution_count": 0,
      "outputs": [
        {
          "output_type": "display_data",
          "data": {
            "image/png": "[encoded data removed]",
            "text/plain": [
              "<Figure size 432x288 with 1 Axes>"
            ]
          },
          "metadata": {
            "tags": []
          }
        }
      ]
    },
    {
      "cell_type": "markdown",
      "metadata": {
        "id": "iWv7a59azbgu",
        "colab_type": "text"
      },
      "source": [
        "**Q. Based on the scores for training set and test set, explain the performance of the above model in terms of bias and variance. Is the Random Forest model better or worse than the Decision Tree model? Explain why you think the performance may have improved or deteriorated.** "
      ]
    },
    {
      "cell_type": "markdown",
      "metadata": {
        "id": "jRXT4Sjxzbgv",
        "colab_type": "text"
      },
      "source": [
        "In terms of bias, we can observe that Random Forest on accuracy has reduced slightly, while it increased considerably on test set. With regards to variance the difference between the model's performance on the train set and test set decreased, thus it is overfitting less. In other words, the model variance has been reduced.  \n",
        "  \n",
        "  \n",
        "The performance improved in Random Forests as it is an ensemble method which takes a combination of several decision trees. Random forest also allows the model to be more generalized as it considers different features for predicting the output. Due to this, our performance has also increased as the model was able to predict more accurately on the test data."
      ]
    },
    {
      "cell_type": "markdown",
      "metadata": {
        "id": "b3fQecVOzbgw",
        "colab_type": "text"
      },
      "source": [
        "## Hyperparameters\n",
        "\n",
        "\"Model tuning\" refers to model adjustments to better fit the data. This is separate from \"fitting\" or \"training\" the model. The fitting/training procedure is governed by the amount and quality of your training data, as the fitting algorithm is unique to each classifier (e.g. logistic regression or random forest). \n",
        "\n",
        "However, there are aspects of some models that are user specified. For example, when using a random forest (which is basically an ensemble of decision trees), it is probably a good idea to choose the right number of underlying trees. Too many and the model might overfit, and too few and the model might not be able to properly learn the data. Parameters such as these are referred to as \"hyperparameters\" or \"free parameters\", as the values for these are determined by the user and not the algorithm.\n",
        "\n",
        "A quick and efficient way to optimize hyperparameters is to perform Grid Search over different values of the parameters. \n"
      ]
    },
    {
      "cell_type": "code",
      "metadata": {
        "id": "bNCXsNR1zbgy",
        "colab_type": "code",
        "colab": {}
      },
      "source": [
        "from sklearn.model_selection import GridSearchCV"
      ],
      "execution_count": 0,
      "outputs": []
    },
    {
      "cell_type": "code",
      "metadata": {
        "id": "4BfDa3l5zbg1",
        "colab_type": "code",
        "colab": {}
      },
      "source": [
        "# In the below dictionary, fill in the list of values that you want to try out for each parameter\n",
        "# Refer to the descriptions in sklearn's doc to understand what the parameters depict\n",
        "\n",
        "param_grid = {\n",
        "    'max_depth': [i for i in range(1, 8)],\n",
        "    'max_features': [1, 2], # Since we only have 2 features at max for the training data\n",
        "    'min_samples_leaf': [i for i in range(2, 11)],\n",
        "    'min_samples_split': [i for i in range(2, 15, 2)],\n",
        "    'n_estimators': [i for i in range(10, 301, 40)]\n",
        "}"
      ],
      "execution_count": 0,
      "outputs": []
    },
    {
      "cell_type": "code",
      "metadata": {
        "id": "fVvFgiCAzbg7",
        "colab_type": "code",
        "colab": {}
      },
      "source": [
        "rf = RandomForestClassifier(random_state=26)"
      ],
      "execution_count": 0,
      "outputs": []
    },
    {
      "cell_type": "code",
      "metadata": {
        "id": "fxGKBGAgzbg_",
        "colab_type": "code",
        "colab": {}
      },
      "source": [
        "grid_search = GridSearchCV(estimator = rf, scoring='f1', param_grid = param_grid, \n",
        "                          cv = 3, n_jobs = -1, verbose = 2)"
      ],
      "execution_count": 0,
      "outputs": []
    },
    {
      "cell_type": "code",
      "metadata": {
        "id": "ASSEz69ozbhF",
        "colab_type": "code",
        "outputId": "741ee865-d5ae-4f27-dbf3-990b7fae3144",
        "colab": {
          "base_uri": "https://localhost:8080/",
          "height": 843
        }
      },
      "source": [
        "### Fit the training data\n",
        "grid_search.fit(X_train, y_train)"
      ],
      "execution_count": 0,
      "outputs": [
        {
          "output_type": "stream",
          "text": [
            "Fitting 3 folds for each of 7056 candidates, totalling 21168 fits\n"
          ],
          "name": "stdout"
        },
        {
          "output_type": "stream",
          "text": [
            "[Parallel(n_jobs=-1)]: Using backend LokyBackend with 2 concurrent workers.\n",
            "[Parallel(n_jobs=-1)]: Done  37 tasks      | elapsed:    7.3s\n",
            "[Parallel(n_jobs=-1)]: Done 158 tasks      | elapsed:   27.2s\n",
            "[Parallel(n_jobs=-1)]: Done 361 tasks      | elapsed:  1.0min\n",
            "[Parallel(n_jobs=-1)]: Done 644 tasks      | elapsed:  1.8min\n",
            "[Parallel(n_jobs=-1)]: Done 1009 tasks      | elapsed:  2.8min\n",
            "[Parallel(n_jobs=-1)]: Done 1454 tasks      | elapsed:  4.0min\n",
            "[Parallel(n_jobs=-1)]: Done 1981 tasks      | elapsed:  5.5min\n",
            "[Parallel(n_jobs=-1)]: Done 2588 tasks      | elapsed:  7.1min\n",
            "[Parallel(n_jobs=-1)]: Done 3277 tasks      | elapsed:  9.0min\n",
            "[Parallel(n_jobs=-1)]: Done 4046 tasks      | elapsed: 11.1min\n",
            "[Parallel(n_jobs=-1)]: Done 4897 tasks      | elapsed: 13.4min\n",
            "[Parallel(n_jobs=-1)]: Done 5828 tasks      | elapsed: 16.0min\n",
            "[Parallel(n_jobs=-1)]: Done 6841 tasks      | elapsed: 18.8min\n",
            "[Parallel(n_jobs=-1)]: Done 7934 tasks      | elapsed: 21.8min\n",
            "[Parallel(n_jobs=-1)]: Done 9109 tasks      | elapsed: 25.1min\n",
            "[Parallel(n_jobs=-1)]: Done 10364 tasks      | elapsed: 28.5min\n",
            "[Parallel(n_jobs=-1)]: Done 11701 tasks      | elapsed: 32.2min\n",
            "[Parallel(n_jobs=-1)]: Done 13118 tasks      | elapsed: 36.1min\n",
            "[Parallel(n_jobs=-1)]: Done 14617 tasks      | elapsed: 40.2min\n",
            "[Parallel(n_jobs=-1)]: Done 16196 tasks      | elapsed: 44.5min\n",
            "[Parallel(n_jobs=-1)]: Done 17857 tasks      | elapsed: 49.0min\n",
            "[Parallel(n_jobs=-1)]: Done 19598 tasks      | elapsed: 53.7min\n",
            "[Parallel(n_jobs=-1)]: Done 21168 out of 21168 | elapsed: 57.9min finished\n",
            "/usr/local/lib/python3.6/dist-packages/sklearn/model_selection/_search.py:814: DeprecationWarning: The default of the `iid` parameter will change from True to False in version 0.22 and will be removed in 0.24. This will change numeric results when test-set sizes are unequal.\n",
            "  DeprecationWarning)\n"
          ],
          "name": "stderr"
        },
        {
          "output_type": "execute_result",
          "data": {
            "text/plain": [
              "GridSearchCV(cv=3, error_score='raise-deprecating',\n",
              "             estimator=RandomForestClassifier(bootstrap=True, class_weight=None,\n",
              "                                              criterion='gini', max_depth=None,\n",
              "                                              max_features='auto',\n",
              "                                              max_leaf_nodes=None,\n",
              "                                              min_impurity_decrease=0.0,\n",
              "                                              min_impurity_split=None,\n",
              "                                              min_samples_leaf=1,\n",
              "                                              min_samples_split=2,\n",
              "                                              min_weight_fraction_leaf=0.0,\n",
              "                                              n_estimators='warn', n_jobs=None,\n",
              "                                              oob_score=False, random_state=26,\n",
              "                                              verbose=0, warm_start=False),\n",
              "             iid='warn', n_jobs=-1,\n",
              "             param_grid={'max_depth': [1, 2, 3, 4, 5, 6, 7],\n",
              "                         'max_features': [1, 2],\n",
              "                         'min_samples_leaf': [2, 3, 4, 5, 6, 7, 8, 9, 10],\n",
              "                         'min_samples_split': [2, 4, 6, 8, 10, 12, 14],\n",
              "                         'n_estimators': [10, 50, 90, 130, 170, 210, 250, 290]},\n",
              "             pre_dispatch='2*n_jobs', refit=True, return_train_score=False,\n",
              "             scoring='f1', verbose=2)"
            ]
          },
          "metadata": {
            "tags": []
          },
          "execution_count": 35
        }
      ]
    },
    {
      "cell_type": "markdown",
      "metadata": {
        "id": "FKMWJNGSzbhI",
        "colab_type": "text"
      },
      "source": [
        "Q. Display the parameters of the best model."
      ]
    },
    {
      "cell_type": "code",
      "metadata": {
        "id": "euiAkrWVzbhJ",
        "colab_type": "code",
        "outputId": "068cd9c5-76d7-4525-c0ef-3f0cd79ac38b",
        "colab": {
          "base_uri": "https://localhost:8080/",
          "height": 101
        }
      },
      "source": [
        "### WRITE CODE HERE ###\n",
        "grid_search.best_params_"
      ],
      "execution_count": 0,
      "outputs": [
        {
          "output_type": "execute_result",
          "data": {
            "text/plain": [
              "{'max_depth': 4,\n",
              " 'max_features': 1,\n",
              " 'min_samples_leaf': 4,\n",
              " 'min_samples_split': 2,\n",
              " 'n_estimators': 10}"
            ]
          },
          "metadata": {
            "tags": []
          },
          "execution_count": 36
        }
      ]
    },
    {
      "cell_type": "code",
      "metadata": {
        "id": "oAE9dVKdzbhM",
        "colab_type": "code",
        "outputId": "bcb3aee6-1a55-495c-ed00-139dc44c1e07",
        "colab": {
          "base_uri": "https://localhost:8080/",
          "height": 346
        }
      },
      "source": [
        "### Using the best model, do the following:\n",
        "### Make predictions on the training set and display accuracy, precision and recall.\n",
        "### Make predictions on the testing set and display accuracy, precision and recall. Plot ROC curve and print AUC.\n",
        "\n",
        "# Initializing the classifier with the tuned parameters\n",
        "rf = RandomForestClassifier(random_state=26, **grid_search.best_params_)\n",
        "# Fit the model with the data\n",
        "rf.fit(X_train, y_train)\n",
        "# Predict the values\n",
        "y_hat_test = rf.predict(X_test)\n",
        "\n",
        "# Fetch the precision, accuracy and recall scores for the testing data\n",
        "fetch_scores(y_test, y_hat_test)\n",
        "\n",
        "# Plotting the values on a ROC curve\n",
        "y_hat_prob = clf.predict_proba(X_test)[:, 1]\n",
        "plot_roc_curve(y_test, y_hat_prob, \"Receiver operating characteristic with tuned parameters\")"
      ],
      "execution_count": 0,
      "outputs": [
        {
          "output_type": "stream",
          "text": [
            "Accuracy Score:  0.8\n",
            "Precision Score:  0.7647058823529411\n",
            "Recall Score:  0.8297872340425532\n"
          ],
          "name": "stdout"
        },
        {
          "output_type": "display_data",
          "data": {
            "image/png": "[encoded data removed]",
            "text/plain": [
              "<Figure size 432x288 with 1 Axes>"
            ]
          },
          "metadata": {
            "tags": []
          }
        }
      ]
    },
    {
      "cell_type": "markdown",
      "metadata": {
        "id": "a6nIz8n-zbhP",
        "colab_type": "text"
      },
      "source": [
        "**Q. How did performing Grid Search impact the performance of the model? Were you able to optimize the hyperparameters?**"
      ]
    },
    {
      "cell_type": "markdown",
      "metadata": {
        "id": "8ZvgXKl8zbhQ",
        "colab_type": "text"
      },
      "source": [
        "When we performed Grid Search, our model performed better as it selected the best hyperparameters (for this dataset and for the given range of hyperparameters) to train the data and when we used the tuned model our scores were much better. This is done by reducing the gini impurity than the previous values. Since we are able to reduce that, we are able to classify better and thus increase our f1 score."
      ]
    },
    {
      "cell_type": "markdown",
      "metadata": {
        "id": "NS_IEhcvzbhR",
        "colab_type": "text"
      },
      "source": [
        "# Dataset 2\n",
        "\n",
        "Given this procedure, you are to optimize a random forest classifier for a dataset with 50 features. Training data are provided, but testing data does not include the labels. It is up to you to use the training data to optimize generalization performance to the test data. You will submit a csv file with your predictions. It should contain one column and the column should be named \"y\".\n"
      ]
    },
    {
      "cell_type": "code",
      "metadata": {
        "id": "_VPvnQrszbhS",
        "colab_type": "code",
        "colab": {}
      },
      "source": [
        "train_df = pd.read_csv(\"train_50features.csv\")\n",
        "test_data = pd.read_csv(\"test_50features.csv\")"
      ],
      "execution_count": 0,
      "outputs": []
    },
    {
      "cell_type": "code",
      "metadata": {
        "id": "dl6DZrJPzbhX",
        "colab_type": "code",
        "outputId": "cacf160b-4a01-4f1a-fcd4-1b7d5a7e7f89",
        "colab": {
          "base_uri": "https://localhost:8080/",
          "height": 810
        }
      },
      "source": [
        "##########################################\n",
        "### Construct your final random forest model and optimize the hyperparameters using Grid Search ###\n",
        "\n",
        "# Data Preprocessing and preparation\n",
        "X_train, y_train = train_df.drop('y', axis=1), np.ravel(train_df['y'])\n",
        "\n",
        "# Selecting parameters for identifying the most optimal hyperparameters\n",
        "param_grid = {\n",
        "    'max_depth': [i for i in range(1, 11)],\n",
        "    'max_features': ['sqrt', 'log2'],\n",
        "    'min_samples_leaf': [i for i in range(2, 11)],\n",
        "    'min_samples_split': [2, 3, 4] + [i for i in range(5, 50, 5)],\n",
        "    'n_estimators': [i for i in range(5, 51, 5)],\n",
        "    'class_weight': ['balanced', None]\n",
        "}\n",
        "\n",
        "rf = RandomForestClassifier(random_state=26)\n",
        "\n",
        "grid_search = GridSearchCV(estimator = rf, scoring='f1', param_grid = param_grid, \n",
        "                          cv = 3, n_jobs = -1, verbose = 2)\n",
        "\n",
        "grid_search.fit(X_train, y_train)\n",
        "\n",
        "print(grid_search.best_params_)\n",
        "\n",
        "rf = RandomForestClassifier(random_state=26, **grid_search.best_params_)\n",
        "rf.fit(X_train, y_train)\n",
        "\n",
        "predicted_df = pd.DataFrame({'y': rf.predict(test_data)})\n",
        "predicted_df.to_csv(\"predictions.csv\", index=False)\n"
      ],
      "execution_count": 0,
      "outputs": [
        {
          "output_type": "stream",
          "text": [
            "Fitting 3 folds for each of 43200 candidates, totalling 129600 fits\n"
          ],
          "name": "stdout"
        },
        {
          "output_type": "stream",
          "text": [
            "[Parallel(n_jobs=-1)]: Using backend LokyBackend with 2 concurrent workers.\n",
            "[Parallel(n_jobs=-1)]: Done  52 tasks      | elapsed:    3.4s\n",
            "[Parallel(n_jobs=-1)]: Done 294 tasks      | elapsed:   11.5s\n",
            "[Parallel(n_jobs=-1)]: Done 700 tasks      | elapsed:   25.5s\n",
            "[Parallel(n_jobs=-1)]: Done 1266 tasks      | elapsed:   44.9s\n",
            "[Parallel(n_jobs=-1)]: Done 1996 tasks      | elapsed:  1.2min\n",
            "[Parallel(n_jobs=-1)]: Done 2886 tasks      | elapsed:  1.7min\n",
            "[Parallel(n_jobs=-1)]: Done 3940 tasks      | elapsed:  2.3min\n",
            "[Parallel(n_jobs=-1)]: Done 5154 tasks      | elapsed:  3.0min\n",
            "[Parallel(n_jobs=-1)]: Done 6532 tasks      | elapsed:  3.7min\n",
            "[Parallel(n_jobs=-1)]: Done 8070 tasks      | elapsed:  4.6min\n",
            "[Parallel(n_jobs=-1)]: Done 9772 tasks      | elapsed:  5.6min\n",
            "[Parallel(n_jobs=-1)]: Done 11634 tasks      | elapsed:  6.7min\n",
            "[Parallel(n_jobs=-1)]: Done 13660 tasks      | elapsed:  7.8min\n",
            "[Parallel(n_jobs=-1)]: Done 15846 tasks      | elapsed:  9.1min\n",
            "[Parallel(n_jobs=-1)]: Done 18196 tasks      | elapsed: 10.4min\n",
            "[Parallel(n_jobs=-1)]: Done 20706 tasks      | elapsed: 11.8min\n",
            "[Parallel(n_jobs=-1)]: Done 23380 tasks      | elapsed: 13.4min\n",
            "[Parallel(n_jobs=-1)]: Done 26214 tasks      | elapsed: 15.0min\n",
            "[Parallel(n_jobs=-1)]: Done 29212 tasks      | elapsed: 16.7min\n",
            "[Parallel(n_jobs=-1)]: Done 32370 tasks      | elapsed: 18.5min\n",
            "[Parallel(n_jobs=-1)]: Done 35692 tasks      | elapsed: 20.4min\n",
            "[Parallel(n_jobs=-1)]: Done 39174 tasks      | elapsed: 22.4min\n",
            "[Parallel(n_jobs=-1)]: Done 42820 tasks      | elapsed: 24.5min\n",
            "[Parallel(n_jobs=-1)]: Done 46626 tasks      | elapsed: 26.6min\n",
            "[Parallel(n_jobs=-1)]: Done 50596 tasks      | elapsed: 28.9min\n",
            "[Parallel(n_jobs=-1)]: Done 54726 tasks      | elapsed: 31.3min\n",
            "[Parallel(n_jobs=-1)]: Done 59020 tasks      | elapsed: 33.7min\n",
            "[Parallel(n_jobs=-1)]: Done 63474 tasks      | elapsed: 36.3min\n",
            "[Parallel(n_jobs=-1)]: Done 68092 tasks      | elapsed: 38.9min\n",
            "[Parallel(n_jobs=-1)]: Done 72870 tasks      | elapsed: 41.7min\n",
            "[Parallel(n_jobs=-1)]: Done 77812 tasks      | elapsed: 44.5min\n",
            "[Parallel(n_jobs=-1)]: Done 82914 tasks      | elapsed: 47.5min\n",
            "[Parallel(n_jobs=-1)]: Done 88180 tasks      | elapsed: 50.5min\n",
            "[Parallel(n_jobs=-1)]: Done 93606 tasks      | elapsed: 53.6min\n",
            "[Parallel(n_jobs=-1)]: Done 99196 tasks      | elapsed: 56.9min\n",
            "[Parallel(n_jobs=-1)]: Done 104946 tasks      | elapsed: 60.2min\n",
            "[Parallel(n_jobs=-1)]: Done 110860 tasks      | elapsed: 63.6min\n",
            "[Parallel(n_jobs=-1)]: Done 116934 tasks      | elapsed: 67.1min\n",
            "[Parallel(n_jobs=-1)]: Done 123172 tasks      | elapsed: 70.7min\n",
            "[Parallel(n_jobs=-1)]: Done 129570 tasks      | elapsed: 74.3min\n",
            "[Parallel(n_jobs=-1)]: Done 129600 out of 129600 | elapsed: 74.4min finished\n",
            "/usr/local/lib/python3.6/dist-packages/sklearn/model_selection/_search.py:814: DeprecationWarning: The default of the `iid` parameter will change from True to False in version 0.22 and will be removed in 0.24. This will change numeric results when test-set sizes are unequal.\n",
            "  DeprecationWarning)\n"
          ],
          "name": "stderr"
        },
        {
          "output_type": "stream",
          "text": [
            "{'class_weight': None, 'max_depth': 1, 'max_features': 'sqrt', 'min_samples_leaf': 5, 'min_samples_split': 40, 'n_estimators': 20}\n"
          ],
          "name": "stdout"
        }
      ]
    },
    {
      "cell_type": "markdown",
      "metadata": {
        "id": "oWKjIui-zbhd",
        "colab_type": "text"
      },
      "source": [
        "**What can you tell about the range of values to be considered for each of the parameters mentioned above? Explain the reason for choosing the ranges mentioned in your solution.  Also, how does each of these parameters affect overfitting in the model?**"
      ]
    },
    {
      "cell_type": "markdown",
      "metadata": {
        "id": "8Qbs-fnnzbhd",
        "colab_type": "text"
      },
      "source": [
        "**Parameter tuning**\n",
        "1. n_estimators: This is the number of trees which the random forest can use. When we use these values we can add it to a high range but after a set of operations the f-1 score would stop increasing. Therefore, we want to make sure that we don't take that high of a value as it would just add to the computation cost and model complexity. The higher the number of trees the more prone it might be to overfitting assuming that the features are not assisting in reducing overfitting.\n",
        "\n",
        "2. max_depth: The max depth is the maximum height of the tree can grow. The range here has been selected from 1 to 10 as we don't need the tree to go beyond a limit of the log(100-the number of observations) to the base 2 [~7 and taking a buffer of 3 for safety]. The higher the max_depth the more prone it is towards overfitting the data, as it might work well in classifying the training data but it will not generalize to other datasets.\n",
        "\n",
        "3. max_features: This is the maximum number of features that can be selected by a tree to make a decision. Since we have multiple separate decision trees we want to make sure that we don't take more than the square root of the number of independent variables, as this would allow us to reduce overfitting. When we use max_features, we can think about overfitting the data with less features but this varies depending on our data.\n",
        "\n",
        "4. min_samples_leaf: This is the minimum number of sample required to be at the leaf node. We know that our model should take atleast 2 values[so that the tree doesn't end up with 100 leaves for 100 observations] and assume the maximum till 10. If we take a higher value than 10, the value might start underfitting the model as it will not allow our model to split too much.\n",
        "\n",
        "5. min_samples_split: This is the minimum number of samples to split required to split a node. Since we want to make sure that the splitting happens, we take a range from 5 to 50. We want to make sure that we allow a split even if there is a 50-50 split before. The distribution of data suggests that there are 52 - 1 values and 48 - 0 values. The higher the min_samples_split value, the more prone our model is to underfitting, as it would not allow us to fit any further. This is one more reason why we don't exceed our range to be more than 50.\n",
        "\n",
        "6. class_weight: This allows us to associate a weight to the trees. There are only 2 parameters which we are using here, \"balanced\" which identifies y and adjusts the weights, or \"None\" which doesn't add any weight. Although, a balanced weight might result in overfitting, it highly depends on our dataset."
      ]
    }
  ]
}