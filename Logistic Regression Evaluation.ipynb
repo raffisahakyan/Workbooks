{
 "cells": [
  {
   "cell_type": "markdown",
   "metadata": {},
   "source": [
    "## Mathematics and Statistics for Analytics - Homework Assignment 2"
   ]
  },
  {
   "cell_type": "markdown",
   "metadata": {},
   "source": [
    "Authors: Raffi Sahakyan, Yuxuan Luo, Shufan Chen\n",
    "<br>\n",
    "Date: 25 Nov, 2019"
   ]
  },
  {
   "cell_type": "markdown",
   "metadata": {},
   "source": [
    "<hr style=\"height:2px; border:none; color:#000; background-color:#000;\">"
   ]
  },
  {
   "cell_type": "markdown",
   "metadata": {},
   "source": [
    "# Homework 2 - Classification\n",
    "\n",
    "In this exercise you will use scikit-learn, a popular machine learning package in python to train and tune a classifier. A particularly useful feature is that all classifiers (and linear models) are called using the same API, so it is easy to test between different models (see the sklearn-intro notebook for examples). So in this exercise we will a classification technique (logistic regression) that is representative of methods and challenges you will encounter when using any classification method.\n",
    "\n",
    "\n",
    "## Dataset\n",
    "We will be using a banking marketing dataset. \n",
    "The dataset is associated with direct marketing campaigns of a banking institution. Your job is to find out the best strategies to improve for the next marketing campaign. How can the bank have a greater effectiveness for future marketing campaigns? In order to answer this, we have to analyze the last marketing campaign the bank performed and identify the patterns that will help us find conclusions in order to develop future strategies.\n",
    "\n",
    "You have to predict whether a customer subscribes for term deposit or not using the following attributes: \n",
    "\n",
    "1 - age (numeric)<br>\n",
    "2 - job : type of job (categorical: 'admin.','blue-collar','entrepreneur','housemaid','management','retired','self-employed','services','student','technician','unemployed','unknown')<br>\n",
    "3 - marital : marital status (categorical: 'divorced','married','single','unknown'; note: 'divorced' means divorced or widowed)<br>\n",
    "4 - education (categorical: 'basic.4y','basic.6y','basic.9y','high.school','illiterate','professional.course','university.degree','unknown')<br>\n",
    "5 - default: has credit in default? (categorical: 'no','yes','unknown')<br>\n",
    "6 - balance: balance amount (numeric)<br>\n",
    "7 - housing: has housing loan? (categorical: 'no','yes','unknown')<br>\n",
    "8 - loan: has personal loan? (categorical: 'no','yes','unknown')<br>\n",
    "8 - contact: contact communication type (categorical: 'cellular','telephone')<br>\n",
    "9 - month: last contact month of year (categorical: 'jan', 'feb', 'mar', ..., 'nov', 'dec')<br>\n",
    "10 - day_of_week: last contact day of the week (categorical: 'mon','tue','wed','thu','fri')<br>\n",
    "12 - campaign: number of contacts performed during this campaign and for this client (numeric, includes last contact)<br>\n",
    "13 - pdays: number of days that passed by after the client was last contacted from a previous campaign (numeric; 999 means client was not previously contacted)<br>\n",
    "14 - previous: number of contacts performed before this campaign and for this client (numeric)<br>\n",
    "15 - poutcome: outcome of the previous marketing campaign (categorical: 'failure','nonexistent','success')<br>\n",
    "\n",
    "features_ex2.xlsx contains the features. It has 4521 records. First 3165 observations are used for training dataset, next 678 observations are used for cross validation dataset and final 678 observations are used for test dataset.\n",
    "\n",
    "label_ex2.xlsx contains the label: \"yes\" or \"no\". First 3165 observations are used for training dataset, next 678 observations are used for cross validation dataset. Labels for test dataset are not provided to you because in a real world scenario you will not know the true values for your test set. "
   ]
  },
  {
   "cell_type": "code",
   "execution_count": 1,
   "metadata": {},
   "outputs": [],
   "source": [
    "#Impotying Basic libraries\n",
    "import numpy as np\n",
    "import pandas as pd\n",
    "import matplotlib.pyplot as plt\n",
    "import seaborn as sns\n",
    "\n",
    "#Sklearn model, metrics, scaler\n",
    "from sklearn.preprocessing import StandardScaler\n",
    "from sklearn.linear_model import LogisticRegression\n",
    "from sklearn.metrics import roc_curve, roc_auc_score, accuracy_score, precision_score, recall_score, f1_score, confusion_matrix\n",
    "\n",
    "#Defined functions\n",
    "from classification_utils import * \n",
    "\n",
    "# to ignore warnings in sklearn\n",
    "import warnings\n",
    "warnings.filterwarnings(\"ignore\")\n",
    "\n",
    "# magic to not to call show every time \n",
    "%matplotlib inline"
   ]
  },
  {
   "cell_type": "code",
   "execution_count": 2,
   "metadata": {},
   "outputs": [
    {
     "data": {
      "text/html": [
       "<div>\n",
       "<style scoped>\n",
       "    .dataframe tbody tr th:only-of-type {\n",
       "        vertical-align: middle;\n",
       "    }\n",
       "\n",
       "    .dataframe tbody tr th {\n",
       "        vertical-align: top;\n",
       "    }\n",
       "\n",
       "    .dataframe thead th {\n",
       "        text-align: right;\n",
       "    }\n",
       "</style>\n",
       "<table border=\"1\" class=\"dataframe\">\n",
       "  <thead>\n",
       "    <tr style=\"text-align: right;\">\n",
       "      <th></th>\n",
       "      <th>age</th>\n",
       "      <th>job</th>\n",
       "      <th>marital</th>\n",
       "      <th>education</th>\n",
       "      <th>default</th>\n",
       "      <th>balance</th>\n",
       "      <th>housing</th>\n",
       "      <th>loan</th>\n",
       "      <th>contact</th>\n",
       "      <th>day</th>\n",
       "      <th>month</th>\n",
       "      <th>campaign</th>\n",
       "      <th>pdays</th>\n",
       "      <th>previous</th>\n",
       "      <th>poutcome</th>\n",
       "    </tr>\n",
       "  </thead>\n",
       "  <tbody>\n",
       "    <tr>\n",
       "      <td>0</td>\n",
       "      <td>30</td>\n",
       "      <td>unemployed</td>\n",
       "      <td>married</td>\n",
       "      <td>primary</td>\n",
       "      <td>no</td>\n",
       "      <td>1787</td>\n",
       "      <td>no</td>\n",
       "      <td>no</td>\n",
       "      <td>cellular</td>\n",
       "      <td>19</td>\n",
       "      <td>oct</td>\n",
       "      <td>1</td>\n",
       "      <td>-1</td>\n",
       "      <td>0</td>\n",
       "      <td>unknown</td>\n",
       "    </tr>\n",
       "    <tr>\n",
       "      <td>1</td>\n",
       "      <td>33</td>\n",
       "      <td>services</td>\n",
       "      <td>married</td>\n",
       "      <td>secondary</td>\n",
       "      <td>no</td>\n",
       "      <td>4789</td>\n",
       "      <td>yes</td>\n",
       "      <td>yes</td>\n",
       "      <td>cellular</td>\n",
       "      <td>11</td>\n",
       "      <td>may</td>\n",
       "      <td>1</td>\n",
       "      <td>339</td>\n",
       "      <td>4</td>\n",
       "      <td>failure</td>\n",
       "    </tr>\n",
       "    <tr>\n",
       "      <td>2</td>\n",
       "      <td>35</td>\n",
       "      <td>management</td>\n",
       "      <td>single</td>\n",
       "      <td>tertiary</td>\n",
       "      <td>no</td>\n",
       "      <td>1350</td>\n",
       "      <td>yes</td>\n",
       "      <td>no</td>\n",
       "      <td>cellular</td>\n",
       "      <td>16</td>\n",
       "      <td>apr</td>\n",
       "      <td>1</td>\n",
       "      <td>330</td>\n",
       "      <td>1</td>\n",
       "      <td>failure</td>\n",
       "    </tr>\n",
       "    <tr>\n",
       "      <td>3</td>\n",
       "      <td>30</td>\n",
       "      <td>management</td>\n",
       "      <td>married</td>\n",
       "      <td>tertiary</td>\n",
       "      <td>no</td>\n",
       "      <td>1476</td>\n",
       "      <td>yes</td>\n",
       "      <td>yes</td>\n",
       "      <td>unknown</td>\n",
       "      <td>3</td>\n",
       "      <td>jun</td>\n",
       "      <td>4</td>\n",
       "      <td>-1</td>\n",
       "      <td>0</td>\n",
       "      <td>unknown</td>\n",
       "    </tr>\n",
       "    <tr>\n",
       "      <td>4</td>\n",
       "      <td>59</td>\n",
       "      <td>blue-collar</td>\n",
       "      <td>married</td>\n",
       "      <td>secondary</td>\n",
       "      <td>no</td>\n",
       "      <td>0</td>\n",
       "      <td>yes</td>\n",
       "      <td>no</td>\n",
       "      <td>unknown</td>\n",
       "      <td>5</td>\n",
       "      <td>may</td>\n",
       "      <td>1</td>\n",
       "      <td>-1</td>\n",
       "      <td>0</td>\n",
       "      <td>unknown</td>\n",
       "    </tr>\n",
       "  </tbody>\n",
       "</table>\n",
       "</div>"
      ],
      "text/plain": [
       "   age          job  marital  education default  balance housing loan  \\\n",
       "0   30   unemployed  married    primary      no     1787      no   no   \n",
       "1   33     services  married  secondary      no     4789     yes  yes   \n",
       "2   35   management   single   tertiary      no     1350     yes   no   \n",
       "3   30   management  married   tertiary      no     1476     yes  yes   \n",
       "4   59  blue-collar  married  secondary      no        0     yes   no   \n",
       "\n",
       "    contact  day month  campaign  pdays  previous poutcome  \n",
       "0  cellular   19   oct         1     -1         0  unknown  \n",
       "1  cellular   11   may         1    339         4  failure  \n",
       "2  cellular   16   apr         1    330         1  failure  \n",
       "3   unknown    3   jun         4     -1         0  unknown  \n",
       "4   unknown    5   may         1     -1         0  unknown  "
      ]
     },
     "execution_count": 2,
     "metadata": {},
     "output_type": "execute_result"
    }
   ],
   "source": [
    "X = pd.read_excel(\"features_ex2.xlsx\")\n",
    "X.head()"
   ]
  },
  {
   "cell_type": "code",
   "execution_count": 3,
   "metadata": {},
   "outputs": [
    {
     "name": "stdout",
     "output_type": "stream",
     "text": [
      "<class 'pandas.core.frame.DataFrame'>\n",
      "RangeIndex: 4521 entries, 0 to 4520\n",
      "Data columns (total 15 columns):\n",
      "age          4521 non-null int64\n",
      "job          4521 non-null object\n",
      "marital      4521 non-null object\n",
      "education    4521 non-null object\n",
      "default      4521 non-null object\n",
      "balance      4521 non-null int64\n",
      "housing      4521 non-null object\n",
      "loan         4521 non-null object\n",
      "contact      4521 non-null object\n",
      "day          4521 non-null int64\n",
      "month        4521 non-null object\n",
      "campaign     4521 non-null int64\n",
      "pdays        4521 non-null int64\n",
      "previous     4521 non-null int64\n",
      "poutcome     4521 non-null object\n",
      "dtypes: int64(6), object(9)\n",
      "memory usage: 529.9+ KB\n"
     ]
    }
   ],
   "source": [
    "#Calling info to inspect for null values\n",
    "X.info()"
   ]
  },
  {
   "cell_type": "code",
   "execution_count": 4,
   "metadata": {},
   "outputs": [
    {
     "data": {
      "text/html": [
       "<div>\n",
       "<style scoped>\n",
       "    .dataframe tbody tr th:only-of-type {\n",
       "        vertical-align: middle;\n",
       "    }\n",
       "\n",
       "    .dataframe tbody tr th {\n",
       "        vertical-align: top;\n",
       "    }\n",
       "\n",
       "    .dataframe thead th {\n",
       "        text-align: right;\n",
       "    }\n",
       "</style>\n",
       "<table border=\"1\" class=\"dataframe\">\n",
       "  <thead>\n",
       "    <tr style=\"text-align: right;\">\n",
       "      <th></th>\n",
       "      <th>y</th>\n",
       "    </tr>\n",
       "  </thead>\n",
       "  <tbody>\n",
       "    <tr>\n",
       "      <td>0</td>\n",
       "      <td>no</td>\n",
       "    </tr>\n",
       "    <tr>\n",
       "      <td>1</td>\n",
       "      <td>no</td>\n",
       "    </tr>\n",
       "    <tr>\n",
       "      <td>2</td>\n",
       "      <td>no</td>\n",
       "    </tr>\n",
       "  </tbody>\n",
       "</table>\n",
       "</div>"
      ],
      "text/plain": [
       "    y\n",
       "0  no\n",
       "1  no\n",
       "2  no"
      ]
     },
     "execution_count": 4,
     "metadata": {},
     "output_type": "execute_result"
    }
   ],
   "source": [
    "y = pd.read_excel(\"label_ex2.xlsx\")\n",
    "y.head(3)"
   ]
  },
  {
   "cell_type": "code",
   "execution_count": 5,
   "metadata": {},
   "outputs": [],
   "source": [
    "categories = ['job','marital','education','default','housing','loan','contact','month','poutcome']\n",
    "categorical = pd.get_dummies(X[categories], drop_first=True) #need to drop one of the dummy columns to eliminate multicollinearity\n",
    "continuous = X.drop(columns=categories)\n",
    "X = pd.concat([continuous,categorical],axis=1)"
   ]
  },
  {
   "cell_type": "code",
   "execution_count": 6,
   "metadata": {},
   "outputs": [],
   "source": [
    "#splitting data into train, cv and test set (70:15:15 ratio)\n",
    "X_train = X.iloc[0:3165,:]\n",
    "y_train = y.iloc[0:3165,:].y.astype(\"category\").cat.reorder_categories([\"no\",\"yes\"]).cat.codes #reordering no/yes categories to 0,1 for sklearn operations\n",
    "#and reshaping values\n",
    "X_cv = X.iloc[3165:3843,:]\n",
    "y_cv = y.iloc[3165:3843,:].y.astype(\"category\").cat.reorder_categories([\"no\",\"yes\"]).cat.codes #reordering no/yes categories to 0,1 for sklearn operations\n",
    "#and reshaping values\n",
    "X_test = X.iloc[3843:4521,:]"
   ]
  },
  {
   "cell_type": "code",
   "execution_count": 7,
   "metadata": {},
   "outputs": [
    {
     "name": "stdout",
     "output_type": "stream",
     "text": [
      "X_train (3165, 41)\n",
      "y_train (3165,)\n",
      "X_cv (678, 41)\n",
      "y_cv (678,)\n",
      "X_test (678, 41)\n"
     ]
    }
   ],
   "source": [
    "print(\"X_train \"+ str(X_train.shape))\n",
    "print(\"y_train \"+ str(y_train.shape))\n",
    "print(\"X_cv \"+ str(X_cv.shape))\n",
    "print(\"y_cv \"+ str(y_cv.shape))\n",
    "print(\"X_test \"+ str(X_test.shape))"
   ]
  },
  {
   "cell_type": "markdown",
   "metadata": {},
   "source": [
    "## Standardization\n",
    "\n",
    "As discussed in previous exercise, standardization is important when a number of features with different scales are involed. \n",
    "\n",
    "Q. Use StandardScaler from sklearn.preprocessing to standardize the continuous features. \n"
   ]
  },
  {
   "cell_type": "code",
   "execution_count": 8,
   "metadata": {},
   "outputs": [
    {
     "data": {
      "text/html": [
       "<div>\n",
       "<style scoped>\n",
       "    .dataframe tbody tr th:only-of-type {\n",
       "        vertical-align: middle;\n",
       "    }\n",
       "\n",
       "    .dataframe tbody tr th {\n",
       "        vertical-align: top;\n",
       "    }\n",
       "\n",
       "    .dataframe thead th {\n",
       "        text-align: right;\n",
       "    }\n",
       "</style>\n",
       "<table border=\"1\" class=\"dataframe\">\n",
       "  <thead>\n",
       "    <tr style=\"text-align: right;\">\n",
       "      <th></th>\n",
       "      <th>age</th>\n",
       "      <th>balance</th>\n",
       "      <th>day</th>\n",
       "      <th>campaign</th>\n",
       "      <th>pdays</th>\n",
       "      <th>previous</th>\n",
       "      <th>job_blue-collar</th>\n",
       "      <th>job_entrepreneur</th>\n",
       "      <th>job_housemaid</th>\n",
       "      <th>job_management</th>\n",
       "      <th>...</th>\n",
       "      <th>month_jul</th>\n",
       "      <th>month_jun</th>\n",
       "      <th>month_mar</th>\n",
       "      <th>month_may</th>\n",
       "      <th>month_nov</th>\n",
       "      <th>month_oct</th>\n",
       "      <th>month_sep</th>\n",
       "      <th>poutcome_other</th>\n",
       "      <th>poutcome_success</th>\n",
       "      <th>poutcome_unknown</th>\n",
       "    </tr>\n",
       "  </thead>\n",
       "  <tbody>\n",
       "    <tr>\n",
       "      <td>0</td>\n",
       "      <td>-1.056635</td>\n",
       "      <td>0.148995</td>\n",
       "      <td>0.377404</td>\n",
       "      <td>-0.574287</td>\n",
       "      <td>-0.401779</td>\n",
       "      <td>-0.332182</td>\n",
       "      <td>0</td>\n",
       "      <td>0</td>\n",
       "      <td>0</td>\n",
       "      <td>0</td>\n",
       "      <td>...</td>\n",
       "      <td>0</td>\n",
       "      <td>0</td>\n",
       "      <td>0</td>\n",
       "      <td>0</td>\n",
       "      <td>0</td>\n",
       "      <td>1</td>\n",
       "      <td>0</td>\n",
       "      <td>0</td>\n",
       "      <td>0</td>\n",
       "      <td>1</td>\n",
       "    </tr>\n",
       "    <tr>\n",
       "      <td>1</td>\n",
       "      <td>-0.770712</td>\n",
       "      <td>1.236383</td>\n",
       "      <td>-0.597187</td>\n",
       "      <td>-0.574287</td>\n",
       "      <td>3.058498</td>\n",
       "      <td>2.239942</td>\n",
       "      <td>0</td>\n",
       "      <td>0</td>\n",
       "      <td>0</td>\n",
       "      <td>0</td>\n",
       "      <td>...</td>\n",
       "      <td>0</td>\n",
       "      <td>0</td>\n",
       "      <td>0</td>\n",
       "      <td>1</td>\n",
       "      <td>0</td>\n",
       "      <td>0</td>\n",
       "      <td>0</td>\n",
       "      <td>0</td>\n",
       "      <td>0</td>\n",
       "      <td>0</td>\n",
       "    </tr>\n",
       "  </tbody>\n",
       "</table>\n",
       "<p>2 rows × 41 columns</p>\n",
       "</div>"
      ],
      "text/plain": [
       "        age   balance       day  campaign     pdays  previous  \\\n",
       "0 -1.056635  0.148995  0.377404 -0.574287 -0.401779 -0.332182   \n",
       "1 -0.770712  1.236383 -0.597187 -0.574287  3.058498  2.239942   \n",
       "\n",
       "   job_blue-collar  job_entrepreneur  job_housemaid  job_management  ...  \\\n",
       "0                0                 0              0               0  ...   \n",
       "1                0                 0              0               0  ...   \n",
       "\n",
       "   month_jul  month_jun  month_mar  month_may  month_nov  month_oct  \\\n",
       "0          0          0          0          0          0          1   \n",
       "1          0          0          0          1          0          0   \n",
       "\n",
       "   month_sep  poutcome_other  poutcome_success  poutcome_unknown  \n",
       "0          0               0                 0                 1  \n",
       "1          0               0                 0                 0  \n",
       "\n",
       "[2 rows x 41 columns]"
      ]
     },
     "execution_count": 8,
     "metadata": {},
     "output_type": "execute_result"
    }
   ],
   "source": [
    "scaler = StandardScaler()\n",
    "\n",
    "continuous_variables = ['age', 'balance', 'day', 'campaign', 'pdays', 'previous']\n",
    "\n",
    "# Use the above list to replace the continuous columns in X_train to scaled columns. Use fit_transform method.\n",
    "X_train[continuous_variables] = scaler.fit_transform(X_train[continuous_variables])\n",
    "X_train.head(2)"
   ]
  },
  {
   "cell_type": "code",
   "execution_count": 9,
   "metadata": {},
   "outputs": [],
   "source": [
    "# Similarily use the above list to replace the continuous columns in X_cv and X_test to scaled columns. Use transform method.\n",
    "X_cv[continuous_variables] = scaler.transform(X_cv[continuous_variables])\n",
    "X_test[continuous_variables] = scaler.transform(X_test[continuous_variables])"
   ]
  },
  {
   "cell_type": "markdown",
   "metadata": {},
   "source": [
    "## Classification\n",
    "\n",
    "As previously mentioned, the scikit-learn classification API makes it easy to train a classifier. \n",
    "\n",
    "\n",
    "Q. Use LogisticRegression from sklearn.linear_model to make a logistic regression classifier."
   ]
  },
  {
   "cell_type": "code",
   "execution_count": 10,
   "metadata": {},
   "outputs": [
    {
     "data": {
      "text/plain": [
       "LogisticRegression(C=1.0, class_weight=None, dual=False, fit_intercept=True,\n",
       "                   intercept_scaling=1, l1_ratio=None, max_iter=100,\n",
       "                   multi_class='warn', n_jobs=None, penalty='l2',\n",
       "                   random_state=42, solver='warn', tol=0.0001, verbose=0,\n",
       "                   warm_start=False)"
      ]
     },
     "execution_count": 10,
     "metadata": {},
     "output_type": "execute_result"
    }
   ],
   "source": [
    "# First, initialize the classifier with default parameters\n",
    "model_logit = LogisticRegression(random_state=42) #Even though default parameters were required, We are specifying random state for reproducibility of findings \n",
    "# then fit the classifier on training data and labels\n",
    "model_logit.fit(X_train, y_train)"
   ]
  },
  {
   "cell_type": "code",
   "execution_count": 11,
   "metadata": {},
   "outputs": [],
   "source": [
    "# predict the output for cross validation dataset\n",
    "y_pred = model_logit.predict(X_cv)"
   ]
  },
  {
   "cell_type": "markdown",
   "metadata": {},
   "source": [
    "Implement precision(), recall(), accuracy() in exercise_2.py, and use them below."
   ]
  },
  {
   "cell_type": "code",
   "execution_count": 12,
   "metadata": {},
   "outputs": [
    {
     "name": "stdout",
     "output_type": "stream",
     "text": [
      "Accuracy on cv set:  89.233 %\n",
      "Precision on cv set:  47.368 %\n",
      "Recall on cv set:  12.5 %\n"
     ]
    }
   ],
   "source": [
    "# Using the predictions to calculate accuracy, precision, recall\n",
    "\n",
    "### WRITE CODE HERE\n",
    "print(\"Accuracy on cv set: \",round(accuracy(y_cv,y_pred)*100,3),\"%\")\n",
    "print(\"Precision on cv set: \",round(precision(y_cv,y_pred)*100,3),\"%\")\n",
    "print(\"Recall on cv set: \",round(recall(y_cv,y_pred)*100,3),\"%\")"
   ]
  },
  {
   "cell_type": "code",
   "execution_count": 13,
   "metadata": {},
   "outputs": [
    {
     "name": "stdout",
     "output_type": "stream",
     "text": [
      "Accuracy on cv set with sklearn:  89.233 %\n",
      "Precision on cv set with sklearn:  47.368 %\n",
      "Recall on cv set with sklearn:  12.5 %\n"
     ]
    }
   ],
   "source": [
    "#We will compare our defined functions with sklearn to be sure\n",
    "print(\"Accuracy on cv set with sklearn: \",round(accuracy_score(y_cv,y_pred)*100,3),\"%\")\n",
    "print(\"Precision on cv set with sklearn: \",round(precision_score(y_cv,y_pred)*100,3),\"%\")\n",
    "print(\"Recall on cv set with sklearn: \",round(recall_score(y_cv,y_pred)*100,3),\"%\")"
   ]
  },
  {
   "cell_type": "markdown",
   "metadata": {},
   "source": [
    "__Q. Accuracy__<br>\n",
    "_Ans_ - 89.233 %\n",
    "\n",
    "__Q. Precision__<br>\n",
    "_Ans_ - 47.368 %\n",
    "\n",
    "__Q. Recall__<br>\n",
    "_Ans_ - 12.5 %"
   ]
  },
  {
   "cell_type": "markdown",
   "metadata": {},
   "source": [
    "__Q. Which metric (accuracy, precision, recall) is more appropriate and in what cases? Will there be scenarios where it is better to use precision than accuracy? Explain.__ <br>\n",
    "_Ans_ - Accuracy does not perform well with imbalanced data sets. For example, if dataset contains 95% negative and 5% positive samples, classifying all as negative gives 0.95 accuracy score. In application of accuracy equal cost is placed on false negatives and false positives. General accuracy score may be useful in case of balanced classification problems, for example predicting customer gender. \n",
    "<br>\n",
    "<br>\n",
    "Precision can be seen as a measure of exactness or quality. Precision score is the most useful in cases when the true positive values are important in comparison with all predicted positives: such as credit card default dataset, insurance case dataset of accidents, terrorist classification based on human characteristics, patient death dataset in healthcare and etc. Precision is mainly applicable in cases when the dataset is imbalanced(negatives are more frequent than positives), but it is crucial to predict positives. All the 4 mentioned cases precision should be more useful than accuracy. \n",
    "<br>\n",
    "<br>\n",
    "Recall is a measure of completeness or quantity. Recall score is the most useful in cases when the true positive values are important in comparison with all positives. It is hard to distinguish cases when recall will be the sole metric applicable, since recall and precision can be applied to same cases. In credit card default dataset one may value recall over precision, when the KPI will be attached to real defaults. The same can be applied to other examples of precision. When the KPI is derived from the positive values only, recall may be more applicable."
   ]
  },
  {
   "cell_type": "markdown",
   "metadata": {},
   "source": [
    "__Q. Which metric is suitable in this case?__ <br>\n",
    "_Ans_ - First we need to identify the class weights in our dataset"
   ]
  },
  {
   "cell_type": "code",
   "execution_count": 14,
   "metadata": {},
   "outputs": [
    {
     "name": "stdout",
     "output_type": "stream",
     "text": [
      "Weight 1:  11.564 %\n",
      "Weight 0:  88.436 %\n"
     ]
    }
   ],
   "source": [
    "#We need to get understanding about the class weights in our dataset\n",
    "print(\"Weight 1: \", round(sum(y_train==1)/len(y_train)*100,3),\"%\")\n",
    "print(\"Weight 0: \", round(sum(y_train==0)/len(y_train)*100,3),\"%\")"
   ]
  },
  {
   "cell_type": "markdown",
   "metadata": {},
   "source": [
    "As we can observe the class weights are not balanced, so we will elliminate the accuracy as a metric for model tuning. With regards to recall and precision, I would assume that marketing strategy evaluation will be attached to the accurace prediction of positives compared with overall positives. For the latter reason, Recall is more useful in this scenario."
   ]
  },
  {
   "cell_type": "code",
   "execution_count": 15,
   "metadata": {},
   "outputs": [
    {
     "data": {
      "image/png": "[encoded data removed]",
      "text/plain": [
       "<Figure size 432x288 with 2 Axes>"
      ]
     },
     "metadata": {
      "needs_background": "light"
     },
     "output_type": "display_data"
    }
   ],
   "source": [
    "#Plotting the confusion matrix for \n",
    "cm = confusion_matrix(y_cv,y_pred) #confusion matrix\n",
    "\n",
    "ax= plt.subplot()\n",
    "sns.heatmap(cm, annot=True, ax = ax,fmt='g')  #heatmap, fmt='g' converts scientific to float\n",
    "ax.set_xlabel('Predicted labels')\n",
    "ax.set_ylabel('True labels')\n",
    "ax.set_title('Confusion Matrix')\n",
    "\n",
    "#last version of seaborn is messing the heatmap when working with matplotlib\n",
    "#so we have to adjust these lines\n",
    "bottom, top = ax.get_ylim() \n",
    "ax.set_ylim(bottom + 0.5, top - 0.5)\n",
    "plt.show()"
   ]
  },
  {
   "cell_type": "code",
   "execution_count": 16,
   "metadata": {},
   "outputs": [
    {
     "data": {
      "image/png": "[encoded data removed]",
      "text/plain": [
       "<Figure size 432x288 with 1 Axes>"
      ]
     },
     "metadata": {
      "needs_background": "light"
     },
     "output_type": "display_data"
    }
   ],
   "source": [
    "#Squeezing xs\n",
    "i=1\n",
    "squeezed_x = X_train.iloc[:, i: i + 1].values.squeeze()\n",
    "\n",
    "#Plotting the Logistic regression\n",
    "sns.regplot(x=squeezed_x, y=y_train, logistic=True)\n",
    "\n",
    "sns.set(font_scale=1.3)\n",
    "plt.title('Logistic Regression Curve')\n",
    "plt.ylabel('Subscription Probability')\n",
    "plt.subplots_adjust(right=0.93, top=0.90, left=0.10, bottom=0.10)"
   ]
  },
  {
   "cell_type": "markdown",
   "metadata": {},
   "source": [
    "### ROC curve\n",
    "\n",
    "Q. Use roc_Curve from sklearn.metrics and use matplotlib.pyplot to plot the ROC curve. USe cv set to make predictions."
   ]
  },
  {
   "cell_type": "code",
   "execution_count": 17,
   "metadata": {},
   "outputs": [
    {
     "data": {
      "image/png": "[encoded data removed]",
      "text/plain": [
       "<Figure size 432x288 with 1 Axes>"
      ]
     },
     "metadata": {},
     "output_type": "display_data"
    }
   ],
   "source": [
    "#Calculations\n",
    "y_pred_proba = model_logit.predict_proba(X_cv)[::,1] #Predicted probabilities\n",
    "fpr, tpr, _ = roc_curve(y_cv,  y_pred_proba)\n",
    "auc = roc_auc_score(y_cv, y_pred_proba)\n",
    "\n",
    "#Plotting\n",
    "plt.plot(fpr,tpr,label=\"Class 'Yes', auc=\"+str(round(auc,3)), color='gold',lw=.8)\n",
    "plt.plot([0, 1], [0, 1], color='navy', lw=.5, linestyle='--', label='Random Model')\n",
    "\n",
    "plt.xlim([0.0, 1.0])\n",
    "plt.ylim([0.0, 1.05])\n",
    "plt.legend(loc=4)\n",
    "plt.xlabel('False Positive Rate')\n",
    "plt.ylabel('True Positive Rate')\n",
    "plt.title('Receiver operating characteristic curve')\n",
    "plt.style.use('fivethirtyeight')"
   ]
  },
  {
   "cell_type": "markdown",
   "metadata": {},
   "source": [
    "__Q. What is the AUC obtained?__<br>\n",
    "_Ans_ - 0.776"
   ]
  },
  {
   "cell_type": "markdown",
   "metadata": {},
   "source": [
    "## Hyperparameters\n",
    "\n",
    "\"Model tuning\" refers to model adjustments to better fit the data. This is separate from \"fitting\" or \"training\" the model. The fitting/training procedure is governed by the amount and quality of your training data, as the fitting algorithm is unique to each classifier (e.g. logistic regression or random forest). \n",
    "\n",
    "\n",
    "\n"
   ]
  },
  {
   "cell_type": "markdown",
   "metadata": {},
   "source": [
    "Build a model with hyperparameter 'C' set to 0.1 and penalty set to 'l1'. Make predictions on cross validation set and compute accuracy, precision and recall. \n"
   ]
  },
  {
   "cell_type": "code",
   "execution_count": 18,
   "metadata": {},
   "outputs": [
    {
     "name": "stdout",
     "output_type": "stream",
     "text": [
      "Accuracy on cv set:  89.823 %\n",
      "Precision on cv set:  60.0 %\n",
      "Recall on cv set:  12.5 %\n",
      "F1 Score on cv set:  20.69 %\n",
      "ROC AUC Score on cv set:  0.752\n"
     ]
    }
   ],
   "source": [
    "### WRITE CODE HERE\n",
    "model_logit_1 = LogisticRegression(C=.1,penalty='l1',random_state=42)\n",
    "model_logit_1.fit(X_train,y_train)\n",
    "\n",
    "y_pred_1 = model_logit_1.predict(X_cv)\n",
    "y_pred_proba_1 = model_logit_1.predict_proba(X_cv)[::,1] #Predicted probabilities\n",
    "\n",
    "\n",
    "print(\"Accuracy on cv set: \",round(accuracy(y_cv,y_pred_1)*100,3),\"%\")\n",
    "print(\"Precision on cv set: \",round(precision(y_cv,y_pred_1)*100,3),\"%\")\n",
    "print(\"Recall on cv set: \",round(recall(y_cv,y_pred_1)*100,3),\"%\")\n",
    "print(\"F1 Score on cv set: \",round(f1_score(y_cv,y_pred_1)*100,3),\"%\")\n",
    "print(\"ROC AUC Score on cv set: \",round(roc_auc_score(y_cv,y_pred_proba_1),3))"
   ]
  },
  {
   "cell_type": "markdown",
   "metadata": {},
   "source": [
    "Build a model with hyperparameter 'C' set to 0.5 and penalty set to 'l1'. Make predictions on cross validation set and compute accuracy, precision and recall. \n"
   ]
  },
  {
   "cell_type": "code",
   "execution_count": 19,
   "metadata": {},
   "outputs": [
    {
     "name": "stdout",
     "output_type": "stream",
     "text": [
      "Accuracy on cv set:  89.528 %\n",
      "Precision on cv set:  52.381 %\n",
      "Recall on cv set:  15.278 %\n",
      "F1 Score on cv set:  23.656 %\n",
      "ROC AUC Score on cv set:  0.777\n"
     ]
    }
   ],
   "source": [
    "model_logit_2 = LogisticRegression(C=.5,penalty='l1',random_state=42)\n",
    "model_logit_2.fit(X_train,y_train)\n",
    "\n",
    "y_pred_2 = model_logit_2.predict(X_cv)\n",
    "y_pred_proba_2 = model_logit_2.predict_proba(X_cv)[::,1] #Predicted probabilities\n",
    "\n",
    "print(\"Accuracy on cv set: \",round(accuracy(y_cv,y_pred_2)*100,3),\"%\")\n",
    "print(\"Precision on cv set: \",round(precision(y_cv,y_pred_2)*100,3),\"%\")\n",
    "print(\"Recall on cv set: \",round(recall(y_cv,y_pred_2)*100,3),\"%\")\n",
    "print(\"F1 Score on cv set: \",round(f1_score(y_cv,y_pred_2)*100,3),\"%\")\n",
    "print(\"ROC AUC Score on cv set: \",round(roc_auc_score(y_cv,y_pred_proba_2),3))"
   ]
  },
  {
   "cell_type": "markdown",
   "metadata": {},
   "source": [
    "Build a model with hyperparameter 'C' set to 0.1 and penalty set to 'l2'. Make predictions on cross validation set and compute accuracy, precision and recall. \n"
   ]
  },
  {
   "cell_type": "code",
   "execution_count": 20,
   "metadata": {},
   "outputs": [
    {
     "name": "stdout",
     "output_type": "stream",
     "text": [
      "Accuracy on cv set:  89.971 %\n",
      "Precision on cv set:  66.667 %\n",
      "Recall on cv set:  11.111 %\n",
      "F1 Score on cv set:  19.048 %\n",
      "ROC AUC Score on cv set:  0.77\n"
     ]
    }
   ],
   "source": [
    "### WRITE CODE HERE\n",
    "model_logit_3 = LogisticRegression(C=.1,penalty='l2',random_state=42)\n",
    "model_logit_3.fit(X_train,y_train)\n",
    "\n",
    "y_pred_3 = model_logit_3.predict(X_cv)\n",
    "y_pred_proba_3 = model_logit_3.predict_proba(X_cv)[::,1] #Predicted probabilities\n",
    "\n",
    "print(\"Accuracy on cv set: \",round(accuracy(y_cv,y_pred_3)*100,3),\"%\")\n",
    "print(\"Precision on cv set: \",round(precision(y_cv,y_pred_3)*100,3),\"%\")\n",
    "print(\"Recall on cv set: \",round(recall(y_cv,y_pred_3)*100,3),\"%\")\n",
    "print(\"F1 Score on cv set: \",round(f1_score(y_cv,y_pred_3)*100,3),\"%\")\n",
    "print(\"ROC AUC Score on cv set: \",round(roc_auc_score(y_cv,y_pred_proba_3),3))"
   ]
  },
  {
   "cell_type": "markdown",
   "metadata": {},
   "source": [
    "Build a model with hyperparameter 'C' set to 0.5 and penalty set to 'l2'. Make predictions on cross validation set and compute accuracy, precision and recall. "
   ]
  },
  {
   "cell_type": "code",
   "execution_count": 21,
   "metadata": {},
   "outputs": [
    {
     "name": "stdout",
     "output_type": "stream",
     "text": [
      "Accuracy on cv set:  89.381 %\n",
      "Precision on cv set:  50.0 %\n",
      "Recall on cv set:  12.5 %\n",
      "F1 Score on cv set:  20.0 %\n",
      "ROC AUC Score on cv set:  0.776\n"
     ]
    }
   ],
   "source": [
    "### WRITE CODE HERE\n",
    "model_logit_4 = LogisticRegression(C=.5,penalty='l2',random_state=42)\n",
    "model_logit_4.fit(X_train,y_train)\n",
    "\n",
    "\n",
    "y_pred_4 = model_logit_4.predict(X_cv)\n",
    "y_pred_proba_4 = model_logit_4.predict_proba(X_cv)[::,1] #Predicted probabilities\n",
    "\n",
    "\n",
    "print(\"Accuracy on cv set: \",round(accuracy(y_cv,y_pred_4)*100,3),\"%\")\n",
    "print(\"Precision on cv set: \",round(precision(y_cv,y_pred_4)*100,3),\"%\")\n",
    "print(\"Recall on cv set: \",round(recall(y_cv,y_pred_4)*100,3),\"%\")\n",
    "print(\"F1 Score on cv set: \",round(f1_score(y_cv,y_pred_4)*100,3),\"%\")\n",
    "print(\"ROC AUC Score on cv set: \",round(roc_auc_score(y_cv,y_pred_proba_4),3))"
   ]
  },
  {
   "cell_type": "markdown",
   "metadata": {},
   "source": [
    "__Q. Which of the above models is better?__ <br>\n",
    "_Ans_ - Model 2 is better since it is providing the best accuracy on our predetermined metric: recall. Additionally F1 score and ROC AUC scores are calculated for unified metrices. Model 2 is outperforming on this term as well.  "
   ]
  },
  {
   "cell_type": "markdown",
   "metadata": {},
   "source": [
    "# Test set\n",
    "\n",
    "You have worked on training and cv dataset so far, but testing data does not include the labels. Choose the best hyperparameter values as seen in previous section and build a model. Use this model to make predictions on test set. You will submit a csv file containing your predictions names as predictions.csv.\n"
   ]
  },
  {
   "cell_type": "code",
   "execution_count": 22,
   "metadata": {},
   "outputs": [],
   "source": [
    "##########################################\n",
    "### Construct your final logistic regression using the best hyperparameters obtained above(C and penalty) ###\n",
    "final_model = LogisticRegression(C=.5,penalty='l2',random_state=42)\n",
    "final_model.fit(X_train, y_train)\n",
    "predicted_0_1 = final_model.predict(X_test)\n",
    "\n",
    "#Converting 0-no 1-yes\n",
    "l=np.where(predicted_0_1==0, 'no', predicted_0_1)\n",
    "m=np.where(l=='1','yes',l)\n",
    "\n",
    "### save into csv with column heading as \"y\"\n",
    "\n",
    "###UNCOMMENT IF YOU WANT TO UPDATE FILES, FILE ARE SUBMITTED WITH THE HOMEWORK\n",
    "\n",
    "#np.savetxt(\"predicted_0_1.csv\", predicted_0_1, delimiter=\",\", header='y', fmt='%g', comments='')\n",
    "#np.savetxt(\"predictions.csv\", m, delimiter=\",\", header='y', fmt='%s', comments='')"
   ]
  }
 ],
 "metadata": {
  "kernelspec": {
   "display_name": "Python 3",
   "language": "python",
   "name": "python3"
  },
  "language_info": {
   "codemirror_mode": {
    "name": "ipython",
    "version": 3
   },
   "file_extension": ".py",
   "mimetype": "text/x-python",
   "name": "python",
   "nbconvert_exporter": "python",
   "pygments_lexer": "ipython3",
   "version": "3.6.9"
  }
 },
 "nbformat": 4,
 "nbformat_minor": 4
}
